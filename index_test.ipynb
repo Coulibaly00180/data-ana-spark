{
  "cells": [
    {
      "cell_type": "markdown",
      "metadata": {},
      "source": [
        "# Projet Spark – Analyse ACS Patients\n",
        "\n",
        "**Objectif pédagogique**  \n",
        "Reproduire toutes les étapes des séances 1 → 3 de l’atelier Spark : chargement de données, ingestion RDD → DataFrame, Spark SQL, agrégations/statistiques, export et visualisation.\n",
        "\n",
        "*Dataset principal* : [`CardioDataSets/acs_patients_df.csv`](https://raw.githubusercontent.com/vincentarelbundock/Rdatasets/master/csv/CardioDataSets/acs_patients_df.csv)\n",
        "\n",
        "*Persona* : **Dr Emma Martin**, cardiologue interventionnelle (CHU) souhaitant suivre la sévérité clinique des patients ACS et la charge des facteurs de risque.\n"
      ]
    },
    {
      "cell_type": "markdown",
      "metadata": {},
      "source": [
        "## SÉANCE 1 – Objectifs, chargement, pré‑traitements\n"
      ]
    },
    {
      "cell_type": "code",
      "execution_count": 3,
      "metadata": {
        "language": "scala"
      },
      "outputs": [
        {
          "name": "stdout",
          "output_type": "stream",
          "text": [
            "+--------+---+------+----------------+-------+------+----+------+------+-----------+-------+-----+----+----+----+---+---+-------+\n",
            "|rownames|age|   sex|cardiogenicShock|  entry|    Dx|  EF|height|weight|        BMI|obesity|   TC|LDLC|HDLC|  TG| DM|HBP|smoking|\n",
            "+--------+---+------+----------------+-------+------+----+------+------+-----------+-------+-----+----+----+----+---+---+-------+\n",
            "|       1| 62|  Male|              No|Femoral| STEMI|18.0| 168.0|  72.0|25.51020408|    Yes|215.0| 154|  35| 155|Yes| No| Smoker|\n",
            "|       2| 78|Female|              No|Femoral| STEMI|18.4| 148.0|  48.0| 21.9138057|     No| NULL|NULL|NULL| 166| No|Yes|  Never|\n",
            "|       3| 76|Female|             Yes|Femoral| STEMI|20.0|  NULL|  NULL|       NULL|     No| NULL|NULL|NULL|NULL| No|Yes|  Never|\n",
            "|       4| 89|Female|              No|Femoral| STEMI|21.8| 165.0|  50.0|18.36547291|     No|121.0|  73|  20|  89| No| No|  Never|\n",
            "|       5| 56|  Male|              No| Radial|NSTEMI|21.8| 162.0|  64.0|24.38652644|     No|195.0| 151|  36|  63|Yes|Yes| Smoker|\n",
            "+--------+---+------+----------------+-------+------+----+------+------+-----------+-------+-----+----+----+----+---+---+-------+\n",
            "only showing top 5 rows\n",
            "\n"
          ]
        },
        {
          "data": {
            "text/plain": [
              "spark = org.apache.spark.sql.SparkSession@1e805d0e\n",
              "acsUrl = acs_patients_df.csv\n",
              "acsRaw = [rownames: int, age: int ... 16 more fields]\n"
            ]
          },
          "metadata": {},
          "output_type": "display_data"
        },
        {
          "data": {
            "text/plain": [
              "[rownames: int, age: int ... 16 more fields]"
            ]
          },
          "execution_count": 3,
          "metadata": {},
          "output_type": "execute_result"
        }
      ],
      "source": [
        "// 1‑A • SparkSession & imports (sur Databricks, `spark` existe déjà)\n",
        "import org.apache.spark.sql.{Dataset, Encoders, SparkSession}\n",
        "import org.apache.spark.sql.functions._\n",
        "\n",
        "val spark = SparkSession.builder()\n",
        "  .appName(\"ACS Project\")\n",
        "  .master(\"local[*]\")\n",
        "  .getOrCreate()\n",
        "\n",
        "import spark.implicits._\n",
        "\n",
        "// 1‑B • Source de données (CSV GitHub – format \"raw\")\n",
        "val acsUrl = \"acs_patients_df.csv\"\n",
        "\n",
        "// 1‑C • Lecture brute, schéma auto + cache\n",
        "val acsRaw = spark.read\n",
        "  .option(\"header\", \"true\")\n",
        "  .option(\"inferSchema\", \"true\")\n",
        "  .option(\"nullValue\", \"NA\")\n",
        "  .csv(acsUrl)\n",
        "  .cache()\n",
        "\n",
        "acsRaw.show(5)\n"
      ]
    },
    {
      "cell_type": "code",
      "execution_count": 4,
      "metadata": {
        "language": "scala"
      },
      "outputs": [
        {
          "data": {
            "text/plain": [
              "defined class AcsPatient\n",
              "acsClean = [rownames: int, age: int ... 16 more fields]\n",
              "acsDS = [rownames: int, age: int ... 16 more fields]\n"
            ]
          },
          "metadata": {},
          "output_type": "display_data"
        },
        {
          "data": {
            "text/plain": [
              "[rownames: int, age: int ... 16 more fields]"
            ]
          },
          "execution_count": 4,
          "metadata": {},
          "output_type": "execute_result"
        }
      ],
      "source": [
        "// 1‑D • Définition de la case‑class (types \"boxed\" pour autoriser NULL)\n",
        "case class AcsPatient(\n",
        "  rownames:   java.lang.Integer,\n",
        "  age:        java.lang.Integer,\n",
        "  sex:        String,\n",
        "  cardiogenicShock: String,\n",
        "  entry:      String,\n",
        "  Dx:         String,\n",
        "  EF:         java.lang.Double,\n",
        "  height:     java.lang.Double,\n",
        "  weight:     java.lang.Double,\n",
        "  BMI:        java.lang.Double,\n",
        "  obesity:    String,\n",
        "  TC:         java.lang.Double,\n",
        "  LDLC:       java.lang.Double,\n",
        "  HDLC:       java.lang.Double,\n",
        "  TG:         java.lang.Double,\n",
        "  DM:         String,\n",
        "  HBP:        String,\n",
        "  smoking:    String\n",
        ")\n",
        "\n",
        "// 1‑E • DataFrame nettoyé (ici on garde tout, mais on pourrait .na.fill / .na.drop)\n",
        "val acsClean = acsRaw\n",
        "val acsDS    = acsClean.as[AcsPatient]  // Dataset typé\n"
      ]
    },
    {
      "cell_type": "markdown",
      "metadata": {},
      "source": [
        "## SÉANCE 2 – Ingestion, Spark SQL\n"
      ]
    },
    {
      "cell_type": "code",
      "execution_count": 5,
      "metadata": {
        "language": "scala"
      },
      "outputs": [
        {
          "name": "stdout",
          "output_type": "stream",
          "text": [
            "+--------+---+------+----------------+-------+---------------+----+------+------+-----------+-------+-----+-----+----+-----+---+---+---------+\n",
            "|rownames|age|sex   |cardiogenicShock|entry  |Dx             |EF  |height|weight|BMI        |obesity|TC   |LDLC |HDLC|TG   |DM |HBP|smoking  |\n",
            "+--------+---+------+----------------+-------+---------------+----+------+------+-----------+-------+-----+-----+----+-----+---+---+---------+\n",
            "|1       |62 |Male  |No              |Femoral|STEMI          |18.0|168.0 |72.0  |25.51020408|Yes    |215.0|154.0|35.0|155.0|Yes|No |Smoker   |\n",
            "|2       |78 |Female|No              |Femoral|STEMI          |18.4|148.0 |48.0  |21.9138057 |No     |NULL |NULL |NULL|166.0|No |Yes|Never    |\n",
            "|3       |76 |Female|Yes             |Femoral|STEMI          |20.0|NULL  |NULL  |NULL       |No     |NULL |NULL |NULL|NULL |No |Yes|Never    |\n",
            "|4       |89 |Female|No              |Femoral|STEMI          |21.8|165.0 |50.0  |18.36547291|No     |121.0|73.0 |20.0|89.0 |No |No |Never    |\n",
            "|5       |56 |Male  |No              |Radial |NSTEMI         |21.8|162.0 |64.0  |24.38652644|No     |195.0|151.0|36.0|63.0 |Yes|Yes|Smoker   |\n",
            "|6       |73 |Female|No              |Radial |Unstable Angina|22.0|153.0 |59.0  |25.20398137|Yes    |184.0|112.0|38.0|137.0|Yes|Yes|Never    |\n",
            "|7       |58 |Male  |No              |Radial |Unstable Angina|24.7|167.0 |78.0  |27.96801606|Yes    |161.0|91.0 |34.0|196.0|Yes|Yes|Ex-smoker|\n",
            "|8       |62 |Male  |No              |Femoral|STEMI          |26.6|160.0 |50.0  |19.53125   |No     |136.0|88.0 |33.0|30.0 |Yes|Yes|Ex-smoker|\n",
            "|9       |59 |Female|No              |Radial |Unstable Angina|28.5|152.0 |67.0  |28.99930748|Yes    |239.0|161.0|34.0|118.0|Yes|Yes|Never    |\n",
            "|10      |71 |Male  |No              |Femoral|STEMI          |31.1|168.0 |60.0  |21.2585034 |No     |169.0|88.0 |54.0|141.0|Yes|No |Smoker   |\n",
            "+--------+---+------+----------------+-------+---------------+----+------+------+-----------+-------+-----+-----+----+-----+---+---+---------+\n",
            "only showing top 10 rows\n",
            "\n",
            "root\n",
            " |-- rownames: integer (nullable = true)\n",
            " |-- age: integer (nullable = true)\n",
            " |-- sex: string (nullable = true)\n",
            " |-- cardiogenicShock: string (nullable = true)\n",
            " |-- entry: string (nullable = true)\n",
            " |-- Dx: string (nullable = true)\n",
            " |-- EF: double (nullable = true)\n",
            " |-- height: double (nullable = true)\n",
            " |-- weight: double (nullable = true)\n",
            " |-- BMI: double (nullable = true)\n",
            " |-- obesity: string (nullable = true)\n",
            " |-- TC: double (nullable = true)\n",
            " |-- LDLC: double (nullable = true)\n",
            " |-- HDLC: double (nullable = true)\n",
            " |-- TG: double (nullable = true)\n",
            " |-- DM: string (nullable = true)\n",
            " |-- HBP: string (nullable = true)\n",
            " |-- smoking: string (nullable = true)\n",
            "\n",
            "Total rows : 857\n",
            "+-------+------------------+------------------+------+----------------+-------+---------------+-----------------+------------------+------------------+------------------+-------+------------------+------------------+------------------+------------------+----+----+---------+\n",
            "|summary|          rownames|               age|   sex|cardiogenicShock|  entry|             Dx|               EF|            height|            weight|               BMI|obesity|                TC|              LDLC|              HDLC|                TG|  DM| HBP|  smoking|\n",
            "+-------+------------------+------------------+------+----------------+-------+---------------+-----------------+------------------+------------------+------------------+-------+------------------+------------------+------------------+------------------+----+----+---------+\n",
            "|  count|               857|               857|   857|             857|    857|            857|              723|               764|               766|               764|    857|               834|               833|               834|               842| 857| 857|      857|\n",
            "|   mean|             429.0|63.311551925320884|  NULL|            NULL|   NULL|           NULL|55.83443983402491|163.17539267015707| 64.84373368146214|24.281900179319372|   NULL|185.20023980815353|116.58343337334934| 38.23501199040767|125.23871733966746|NULL|NULL|     NULL|\n",
            "| stddev|247.53888583412507|11.696303815273506|  NULL|            NULL|   NULL|           NULL|9.622963679842282| 9.079306717013006|11.355191143731618|3.3466960820635885|   NULL| 47.77292476789335| 41.09484882825351|11.086689815101652| 90.85259400846765|NULL|NULL|     NULL|\n",
            "|    min|                 1|                28|Female|              No|Femoral|         NSTEMI|             18.0|             130.0|              30.0|       15.61570494|     No|              25.0|              15.0|               4.0|              11.0|  No|  No|Ex-smoker|\n",
            "|    25%|               215|                55|  NULL|            NULL|   NULL|           NULL|             50.4|             158.0|              58.0|       22.12973973|   NULL|             154.0|              88.0|              32.0|              68.0|NULL|NULL|     NULL|\n",
            "|    50%|               429|                64|  NULL|            NULL|   NULL|           NULL|             58.1|             165.0|              65.0|       24.15881797|   NULL|             183.0|             114.0|              38.0|             105.0|NULL|NULL|     NULL|\n",
            "|    75%|               643|                72|  NULL|            NULL|   NULL|           NULL|             62.4|             170.0|              72.0|       26.17383255|   NULL|             213.0|             141.0|              45.0|             154.0|NULL|NULL|     NULL|\n",
            "|    max|               857|                91|  Male|             Yes| Radial|Unstable Angina|             79.0|             185.0|             112.0|       41.42011834|    Yes|             493.0|             366.0|              89.0|             877.0| Yes| Yes|   Smoker|\n",
            "+-------+------------------+------------------+------+----------------+-------+---------------+-----------------+------------------+------------------+------------------+-------+------------------+------------------+------------------+------------------+----+----+---------+\n",
            "\n"
          ]
        },
        {
          "data": {
            "text/plain": [
              "acsRDD = MapPartitionsRDD[24] at rdd at <console>:33\n",
              "acsDF = [rownames: int, age: int ... 16 more fields]\n"
            ]
          },
          "metadata": {},
          "output_type": "display_data"
        },
        {
          "data": {
            "text/plain": [
              "[rownames: int, age: int ... 16 more fields]"
            ]
          },
          "execution_count": 5,
          "metadata": {},
          "output_type": "execute_result"
        }
      ],
      "source": [
        "// 2‑A • Passage RDD → DataFrame + exploration\n",
        "val acsRDD = acsDS.rdd               // RDD[AcsPatient]\n",
        "val acsDF  = acsRDD.toDF()           // DataFrame\n",
        "\n",
        "acsDF.show(10, truncate = false)\n",
        "acsDF.printSchema()\n",
        "println(s\"Total rows : ${acsDF.count}\")\n",
        "acsDF.summary().show()\n"
      ]
    },
    {
      "cell_type": "code",
      "execution_count": 6,
      "metadata": {
        "language": "scala"
      },
      "outputs": [
        {
          "data": {
            "text/plain": [
              "dimSex = [sex: string, id_sex: bigint]\n",
              "dimDx = [Dx: string, id_dx: bigint]\n",
              "dimAccess = [access: string, id_access: bigint]\n",
              "factACS = [rownames: int, age: int ... 16 more fields]\n"
            ]
          },
          "metadata": {},
          "output_type": "display_data"
        },
        {
          "data": {
            "text/plain": [
              "[rownames: int, age: int ... 16 more fields]"
            ]
          },
          "execution_count": 6,
          "metadata": {},
          "output_type": "execute_result"
        }
      ],
      "source": [
        "// 2‑B • Extraction des dimensions\n",
        "import org.apache.spark.sql.functions.monotonically_increasing_id\n",
        "\n",
        "val dimSex = acsDF.select(\"sex\").distinct\n",
        "  .withColumn(\"id_sex\", monotonically_increasing_id)\n",
        "\n",
        "val dimDx = acsDF.select(\"Dx\").distinct\n",
        "  .withColumn(\"id_dx\", monotonically_increasing_id)\n",
        "\n",
        "val dimAccess = acsDF.select(col(\"entry\").alias(\"access\")).distinct\n",
        "  .withColumn(\"id_access\", monotonically_increasing_id)\n",
        "\n",
        "// Table de faits\n",
        "val factACS = acsDF\n",
        "  .join(dimSex,   Seq(\"sex\"))\n",
        "  .join(dimDx,    Seq(\"Dx\"))\n",
        "  .join(dimAccess, acsDF(\"entry\") === dimAccess(\"access\"))\n",
        "  .drop(\"sex\", \"Dx\", \"entry\", \"access\")\n",
        "  .cache()\n"
      ]
    },
    {
      "cell_type": "code",
      "execution_count": 7,
      "metadata": {
        "language": "scala"
      },
      "outputs": [],
      "source": [
        "// 2‑C • Persistance Hive / Delta : 4 tables\n",
        "dimSex.write    .mode(\"overwrite\").saveAsTable(\"dim_sex\")\n",
        "dimDx.write     .mode(\"overwrite\").saveAsTable(\"dim_dx\")\n",
        "dimAccess.write .mode(\"overwrite\").saveAsTable(\"dim_access\")\n",
        "factACS.write   .mode(\"overwrite\").saveAsTable(\"fact_acs_patients\")\n"
      ]
    },
    {
      "cell_type": "code",
      "execution_count": 8,
      "metadata": {
        "language": "scala"
      },
      "outputs": [
        {
          "name": "stdout",
          "output_type": "stream",
          "text": [
            "+---------------+------+-----------+\n",
            "|             Dx|   sex|nb_patients|\n",
            "+---------------+------+-----------+\n",
            "|Unstable Angina|  Male|        247|\n",
            "|          STEMI|  Male|        220|\n",
            "|Unstable Angina|Female|        153|\n",
            "|         NSTEMI|  Male|        103|\n",
            "|          STEMI|Female|         84|\n",
            "|         NSTEMI|Female|         50|\n",
            "+---------------+------+-----------+\n",
            "\n"
          ]
        }
      ],
      "source": [
        "// 2‑D • Exemples de requêtes SQL\n",
        "spark.sql(\"\"\"\n",
        "SELECT dx.Dx, s.sex, COUNT(*) AS nb_patients\n",
        "FROM   fact_acs_patients f\n",
        "JOIN   dim_dx  dx ON f.id_dx  = dx.id_dx\n",
        "JOIN   dim_sex s  ON f.id_sex = s.id_sex\n",
        "GROUP  BY dx.Dx, s.sex\n",
        "ORDER  BY nb_patients DESC\n",
        "\"\"\").show()\n"
      ]
    },
    {
      "cell_type": "markdown",
      "metadata": {},
      "source": [
        "## SÉANCE 3 – Agrégations, export & visualisations\n"
      ]
    },
    {
      "cell_type": "code",
      "execution_count": 9,
      "metadata": {
        "language": "scala"
      },
      "outputs": [
        {
          "name": "stdout",
          "output_type": "stream",
          "text": [
            "+---------+\n",
            "|pct_stemi|\n",
            "+---------+\n",
            "|    35.47|\n",
            "+---------+\n",
            "\n",
            "+---------------+---------+\n",
            "|             Dx|shock_pct|\n",
            "+---------------+---------+\n",
            "|          STEMI|    15.79|\n",
            "|         NSTEMI|     2.61|\n",
            "|Unstable Angina|      0.0|\n",
            "+---------------+---------+\n",
            "\n",
            "+--------+------+\n",
            "|age_band|avg_EF|\n",
            "+--------+------+\n",
            "|   40-59|  56.4|\n",
            "|   60-79|  55.7|\n",
            "|     <40|  53.3|\n",
            "|    >=80|  54.7|\n",
            "+--------+------+\n",
            "\n",
            "+------+-----------+\n",
            "|   sex|obesity_pct|\n",
            "+------+-----------+\n",
            "|Female|       4.53|\n",
            "|  Male|       4.04|\n",
            "+------+-----------+\n",
            "\n",
            "+---+------+\n",
            "| DM|avg_TC|\n",
            "+---+------+\n",
            "| No| 184.7|\n",
            "|Yes| 186.2|\n",
            "+---+------+\n",
            "\n"
          ]
        }
      ],
      "source": [
        "// 3‑A • Indicateurs (≥ 5 agrégations, dont ≥ 4 groupées)\n",
        "\n",
        "// 1. Pourcentage de STEMI\n",
        "spark.sql(\"\"\"\n",
        "SELECT ROUND(SUM(CASE WHEN dx.Dx = 'STEMI' THEN 1 ELSE 0 END) / COUNT(*) * 100, 2) AS pct_stemi\n",
        "FROM fact_acs_patients f\n",
        "JOIN dim_dx dx ON f.id_dx = dx.id_dx\n",
        "\"\"\").show()\n",
        "\n",
        "// 2. Choc cardiogénique par type de Dx\n",
        "spark.sql(\"\"\"\n",
        "SELECT dx.Dx,\n",
        "       ROUND(AVG(CASE WHEN cardiogenicShock = 'Yes' THEN 1 ELSE 0 END) * 100, 2) AS shock_pct\n",
        "FROM   fact_acs_patients f\n",
        "JOIN   dim_dx dx ON f.id_dx = dx.id_dx\n",
        "GROUP  BY dx.Dx\n",
        "ORDER  BY shock_pct DESC\n",
        "\"\"\").show()\n",
        "\n",
        "// 3. EF moyenne par tranche d'âge\n",
        "factACS.withColumn(\"age_band\",\n",
        "    when($\"age\" < 40, \"<40\")\n",
        "     .when($\"age\" < 60, \"40-59\")\n",
        "     .when($\"age\" < 80, \"60-79\")\n",
        "     .otherwise(\">=80\"))\n",
        "  .groupBy(\"age_band\")\n",
        "  .agg(round(avg(\"EF\"), 1).alias(\"avg_EF\"))\n",
        "  .orderBy(\"age_band\")\n",
        "  .show()\n",
        "\n",
        "// 4. Obésité (%) par sexe\n",
        "spark.sql(\"\"\"\n",
        "SELECT s.sex,\n",
        "       ROUND(AVG(CASE WHEN BMI >= 30 THEN 1 ELSE 0 END) * 100, 2) AS obesity_pct\n",
        "FROM   fact_acs_patients f\n",
        "JOIN   dim_sex s ON f.id_sex = s.id_sex\n",
        "GROUP  BY s.sex\n",
        "\"\"\").show()\n",
        "\n",
        "// 5. Cholestérol total moyen selon diabète\n",
        "spark.sql(\"\"\"\n",
        "SELECT DM,\n",
        "       ROUND(AVG(TC), 1) AS avg_TC\n",
        "FROM   fact_acs_patients\n",
        "GROUP  BY DM\n",
        "\"\"\").show()\n"
      ]
    },
    {
      "cell_type": "code",
      "execution_count": 10,
      "metadata": {
        "language": "scala"
      },
      "outputs": [
        {
          "data": {
            "text/plain": [
              "ageEf = [age_band: string, avg_EF: double]\n"
            ]
          },
          "metadata": {},
          "output_type": "display_data"
        },
        {
          "data": {
            "text/plain": [
              "[age_band: string, avg_EF: double]"
            ]
          },
          "execution_count": 10,
          "metadata": {},
          "output_type": "execute_result"
        }
      ],
      "source": [
        "// 3‑B • Export CSV (exemple : distribution EF par tranche d'âge)\n",
        "val ageEf = factACS.withColumn(\"age_band\",\n",
        "    when($\"age\" < 40, \"<40\")\n",
        "     .when($\"age\" < 60, \"40-59\")\n",
        "     .when($\"age\" < 80, \"60-79\")\n",
        "     .otherwise(\">=80\"))\n",
        "  .groupBy(\"age_band\")\n",
        "  .agg(round(avg(\"EF\"),1).alias(\"avg_EF\"))\n",
        "\n",
        "ageEf.coalesce(1)\n",
        "  .write.mode(\"overwrite\")\n",
        "  .option(\"header\", \"true\")\n",
        "  .format(\"com.databricks.spark.csv\")\n",
        "  .save(\"out/age_ef\")\n"
      ]
    },
    {
      "cell_type": "markdown",
      "metadata": {},
      "source": [
        "### Graphiques\n",
        "\n",
        "* **Databricks CE** : utilisez le bouton *Visualize* dans chacune des requêtes ci‑dessus (barres, secteurs, boxplots…).  \n",
        "* **Codespaces / local** : importez les CSV générés dans un tableur ou outil de BI (Sheets, Excel, Tableau…) et réalisez trois graphiques illustrant les indicateurs majeurs pour le Dr Martin.\n"
      ]
    }
  ],
  "metadata": {
    "kernelspec": {
      "display_name": "Apache Toree - Scala",
      "language": "scala",
      "name": "apache_toree_scala"
    },
    "language_info": {
      "codemirror_mode": "text/x-scala",
      "file_extension": ".scala",
      "mimetype": "text/x-scala",
      "name": "scala",
      "pygments_lexer": "scala",
      "version": "2.12.15"
    }
  },
  "nbformat": 4,
  "nbformat_minor": 5
}
