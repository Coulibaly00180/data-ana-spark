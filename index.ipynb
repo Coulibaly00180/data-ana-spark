{
 "cells": [
  {
   "cell_type": "code",
   "execution_count": 2,
   "id": "569f860c",
   "metadata": {},
   "outputs": [
    {
     "data": {
      "text/plain": [
       "defined class AcsPatient\n"
      ]
     },
     "metadata": {},
     "output_type": "display_data"
    }
   ],
   "source": [
    "// 1. Déclaration de la case class\n",
    "case class AcsPatient(\n",
    "  rownames:          Int,\n",
    "  age:               Int,\n",
    "  sex:               String,\n",
    "  cardiogenicShock:  String,\n",
    "  entry:             String,   // Radial / Femoral\n",
    "  Dx:                String,   // STEMI / NSTEMI / UA\n",
    "  EF:                Double,   // Fraction d'éjection\n",
    "  height:            Double,   // cm\n",
    "  weight:            Double,   // kg\n",
    "  BMI:               Double,\n",
    "  obesity:           String,   // Yes / No\n",
    "  TC:                Double,   // Total Cholesterol\n",
    "  LDLC:              Double,\n",
    "  HDLC:              Double,\n",
    "  TG:                Double,   // Triglycerides\n",
    "  DM:                String,   // Diabetes mellitus\n",
    "  HBP:               String,   // High blood pressure\n",
    "  smoking:           String    // Smoker / Ex-smoker / Never\n",
    ")"
   ]
  },
  {
   "cell_type": "code",
   "execution_count": 3,
   "id": "36dfc9bc",
   "metadata": {},
   "outputs": [
    {
     "data": {
      "text/plain": [
       "rawPath = acs_patients_df.csv\n"
      ]
     },
     "metadata": {},
     "output_type": "display_data"
    },
    {
     "data": {
      "text/plain": [
       "acs_patients_df.csv"
      ]
     },
     "execution_count": 3,
     "metadata": {},
     "output_type": "execute_result"
    }
   ],
   "source": [
    "// 2. Chargement dans Databricks (ou Codespaces + spark-standalone)\n",
    "val rawPath = \"acs_patients_df.csv\""
   ]
  },
  {
   "cell_type": "code",
   "execution_count": 4,
   "id": "2c283d6b",
   "metadata": {},
   "outputs": [
    {
     "data": {
      "text/plain": [
       "schema = StructType(StructField(rownames,IntegerType,false),StructField(age,IntegerType,false),StructField(sex,StringType,true),StructField(cardiogenicShock,StringType,true),StructField(entry,StringType,true),StructField(Dx,StringType,true),StructField(EF,DoubleType,false),StructField(height,DoubleType,false),StructField(weight,DoubleType,false),StructField(BMI,DoubleType,false),StructField(obesity,StringType,true),StructField(TC,DoubleType,false),StructField(LDLC,DoubleType,false),StructField(HDLC,DoubleType,false),StructField(TG,DoubleType,false),StructField(DM,StringType,true),StructField(HBP,StringType,true),StructField(smoking,StringType,true))\n",
       "patientsDS = [rowname...\n"
      ]
     },
     "metadata": {},
     "output_type": "display_data"
    },
    {
     "data": {
      "text/plain": [
       "[rowname..."
      ]
     },
     "execution_count": 4,
     "metadata": {},
     "output_type": "execute_result"
    }
   ],
   "source": [
    "// Lecture directe en DataFrame puis mapping vers Dataset[AcsPatient]\n",
    "import org.apache.spark.sql.Encoders\n",
    "val schema = Encoders.product[AcsPatient].schema\n",
    "\n",
    "val patientsDS = spark.read\n",
    "  .schema(schema)            // impose les types pour éviter les inférences erronées\n",
    "  .option(\"header\", \"true\")\n",
    "  .option(\"nullValue\", \"NA\") // gère les cellules vides\n",
    "  .csv(rawPath)\n",
    "  .as[AcsPatient]"
   ]
  },
  {
   "cell_type": "code",
   "execution_count": 5,
   "id": "51ebc4a3",
   "metadata": {},
   "outputs": [
    {
     "name": "stdout",
     "output_type": "stream",
     "text": [
      "+--------+---+------+----------------+-------+---------------+----+------+------+-----------+-------+-----+-----+----+-----+---+---+---------+\n",
      "|rownames|age|sex   |cardiogenicShock|entry  |Dx             |EF  |height|weight|BMI        |obesity|TC   |LDLC |HDLC|TG   |DM |HBP|smoking  |\n",
      "+--------+---+------+----------------+-------+---------------+----+------+------+-----------+-------+-----+-----+----+-----+---+---+---------+\n",
      "|1       |62 |Male  |No              |Femoral|STEMI          |18.0|168.0 |72.0  |25.51020408|Yes    |215.0|154.0|35.0|155.0|Yes|No |Smoker   |\n",
      "|2       |78 |Female|No              |Femoral|STEMI          |18.4|148.0 |48.0  |21.9138057 |No     |NULL |NULL |NULL|166.0|No |Yes|Never    |\n",
      "|3       |76 |Female|Yes             |Femoral|STEMI          |20.0|NULL  |NULL  |NULL       |No     |NULL |NULL |NULL|NULL |No |Yes|Never    |\n",
      "|4       |89 |Female|No              |Femoral|STEMI          |21.8|165.0 |50.0  |18.36547291|No     |121.0|73.0 |20.0|89.0 |No |No |Never    |\n",
      "|5       |56 |Male  |No              |Radial |NSTEMI         |21.8|162.0 |64.0  |24.38652644|No     |195.0|151.0|36.0|63.0 |Yes|Yes|Smoker   |\n",
      "|6       |73 |Female|No              |Radial |Unstable Angina|22.0|153.0 |59.0  |25.20398137|Yes    |184.0|112.0|38.0|137.0|Yes|Yes|Never    |\n",
      "|7       |58 |Male  |No              |Radial |Unstable Angina|24.7|167.0 |78.0  |27.96801606|Yes    |161.0|91.0 |34.0|196.0|Yes|Yes|Ex-smoker|\n",
      "|8       |62 |Male  |No              |Femoral|STEMI          |26.6|160.0 |50.0  |19.53125   |No     |136.0|88.0 |33.0|30.0 |Yes|Yes|Ex-smoker|\n",
      "|9       |59 |Female|No              |Radial |Unstable Angina|28.5|152.0 |67.0  |28.99930748|Yes    |239.0|161.0|34.0|118.0|Yes|Yes|Never    |\n",
      "|10      |71 |Male  |No              |Femoral|STEMI          |31.1|168.0 |60.0  |21.2585034 |No     |169.0|88.0 |54.0|141.0|Yes|No |Smoker   |\n",
      "+--------+---+------+----------------+-------+---------------+----+------+------+-----------+-------+-----+-----+----+-----+---+---+---------+\n",
      "only showing top 10 rows\n",
      "\n",
      "+------+-------+\n",
      "|   sex|STEMI_%|\n",
      "+------+-------+\n",
      "|Female|   29.3|\n",
      "|  Male|   38.6|\n",
      "+------+-------+\n",
      "\n"
     ]
    },
    {
     "data": {
      "text/plain": [
       "stemiRateBySex = [sex: string, STEMI_%: double]\n"
      ]
     },
     "metadata": {},
     "output_type": "display_data"
    },
    {
     "data": {
      "text/plain": [
       "[sex: string, STEMI_%: double]"
      ]
     },
     "execution_count": 5,
     "metadata": {},
     "output_type": "execute_result"
    }
   ],
   "source": [
    "// 3. Premier aperçu (équivalent du sc.textFile(...).take(10))\n",
    "patientsDS.show(10, truncate = false)\n",
    "\n",
    "// 4. Exemple : calcul du taux de STEMI par sexe\n",
    "import org.apache.spark.sql.functions._\n",
    "val stemiRateBySex = patientsDS.groupBy('sex)\n",
    "  .agg( round( avg( when('Dx === \"STEMI\", 1).otherwise(0) )*100, 1).alias(\"STEMI_%\") )\n",
    "\n",
    "stemiRateBySex.orderBy('sex).show()"
   ]
  }
 ],
 "metadata": {
  "kernelspec": {
   "display_name": "Apache Toree - Scala",
   "language": "scala",
   "name": "apache_toree_scala"
  },
  "language_info": {
   "codemirror_mode": "text/x-scala",
   "file_extension": ".scala",
   "mimetype": "text/x-scala",
   "name": "scala",
   "pygments_lexer": "scala",
   "version": "2.12.15"
  }
 },
 "nbformat": 4,
 "nbformat_minor": 5
}
