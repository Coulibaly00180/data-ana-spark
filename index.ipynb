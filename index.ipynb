{
 "cells": [
  {
   "cell_type": "code",
   "execution_count": null,
   "id": "569f860c",
   "metadata": {
    "vscode": {
     "languageId": "plaintext"
    }
   },
   "outputs": [],
   "source": [
    "// ---------------------------------------------\n",
    "// 3.1. Définition de la case class (CSV GitHub)\n",
    "// ---------------------------------------------\n",
    "case class AcsPatient(\n",
    "  rownames:          Int,\n",
    "  age:               Int,\n",
    "  sex:               String,\n",
    "  cardiogenicShock:  String,\n",
    "  entry:             String,\n",
    "  Dx:                String,\n",
    "  EF:                Option[Double],\n",
    "  height:            Option[Double],\n",
    "  weight:            Option[Double],\n",
    "  BMI:               Option[Double],\n",
    "  obesity:           String,\n",
    "  TC:                Option[Int],\n",
    "  LDLC:              Option[Int],\n",
    "  HDLC:              Option[Int],\n",
    "  TG:                Option[Int],\n",
    "  DM:                String,\n",
    "  HBP:               String,\n",
    "  smoking:           String\n",
    ")\n",
    "\n",
    "// ---------------------------------------------\n",
    "// 3.2. Lecture depuis votre repo Codespaces\n",
    "// (le fichier a été glissé dans le volet *Files*)\n",
    "// ---------------------------------------------\n",
    "val rawRdd   = sc.textFile(\"acs_patients_df.csv\")\n",
    "val header   = rawRdd.first\n",
    "val patients = rawRdd\n",
    "  .filter(_ != header)\n",
    "  .map(_.split(\",\", -1))              // -1 => on conserve les vides\n",
    "  .map { a =>\n",
    "    AcsPatient(\n",
    "      a(0).toInt,\n",
    "      a(1).toInt,\n",
    "      a(2),\n",
    "      a(3),\n",
    "      a(4),\n",
    "      a(5),\n",
    "      toOptDouble(a(6)),\n",
    "      toOptDouble(a(7)),\n",
    "      toOptDouble(a(8)),\n",
    "      toOptDouble(a(9)),\n",
    "      a(10),\n",
    "      toOptInt(a(11)),\n",
    "      toOptInt(a(12)),\n",
    "      toOptInt(a(13)),\n",
    "      toOptInt(a(14)),\n",
    "      a(15),\n",
    "      a(16),\n",
    "      a(17)\n",
    "    )\n",
    "  }\n",
    "\n",
    "// Utilitaires de conversion\n",
    "def toOptDouble(s: String): Option[Double] = if (s.isEmpty) None else Some(s.toDouble)\n",
    "def toOptInt(s: String):    Option[Int]    = if (s.isEmpty) None else Some(s.toInt)\n",
    "\n",
    "// DataFrame pour les analyses SQL\n",
    "import spark.implicits._\n",
    "val dfPatients = patients.toDF().cache()\n",
    "dfPatients.printSchema()\n"
   ]
  }
 ],
 "metadata": {
  "language_info": {
   "name": "python"
  }
 },
 "nbformat": 4,
 "nbformat_minor": 5
}
